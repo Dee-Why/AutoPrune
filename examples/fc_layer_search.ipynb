{
 "cells": [
  {
   "cell_type": "code",
   "execution_count": 1,
   "id": "b1e5bd41",
   "metadata": {
    "ExecuteTime": {
     "end_time": "2022-04-11T05:48:34.398474Z",
     "start_time": "2022-04-11T05:48:33.760486Z"
    }
   },
   "outputs": [],
   "source": [
    "import sys, os\n",
    "sys.path.append(os.path.dirname(os.path.abspath('.')))\n",
    "\n",
    "import torch\n",
    "import torch.nn as nn\n",
    "import torch.nn.functional as F\n",
    "\n",
    "import torch_pruning as tp"
   ]
  },
  {
   "cell_type": "code",
   "execution_count": 2,
   "id": "91959e1f",
   "metadata": {
    "ExecuteTime": {
     "end_time": "2022-04-11T05:48:34.485042Z",
     "start_time": "2022-04-11T05:48:34.476207Z"
    }
   },
   "outputs": [
    {
     "name": "stdout",
     "output_type": "stream",
     "text": [
      "DeepFCN(\n",
      "  (fc1): Linear(in_features=128, out_features=256, bias=True)\n",
      "  (first_relu): ReLU()\n",
      "  (fc2): Sequential(\n",
      "    (0): Linear(in_features=256, out_features=64, bias=True)\n",
      "    (1): ReLU()\n",
      "  )\n",
      "  (fc3): ModuleList(\n",
      "    (0): Sequential(\n",
      "      (0): Linear(in_features=64, out_features=64, bias=True)\n",
      "      (1): ReLU()\n",
      "    )\n",
      "    (1): Sequential(\n",
      "      (0): Linear(in_features=64, out_features=64, bias=True)\n",
      "      (1): ReLU()\n",
      "    )\n",
      "    (2): Sequential(\n",
      "      (0): Linear(in_features=64, out_features=64, bias=True)\n",
      "      (1): ReLU()\n",
      "    )\n",
      "  )\n",
      "  (fc4): ModuleDict(\n",
      "    (fc4-1): Linear(in_features=64, out_features=32, bias=True)\n",
      "    (relu): ReLU()\n",
      "  )\n",
      "  (fc5): Linear(in_features=32, out_features=10, bias=True)\n",
      ")\n"
     ]
    }
   ],
   "source": [
    "class DeepFCN(nn.Module):\n",
    "    def __init__(self, input_size, num_classes):\n",
    "        super(DeepFCN, self).__init__()\n",
    "        self.fc1 = nn.Linear(input_size, 256)\n",
    "        self.add_module('first_relu', nn.ReLU())\n",
    "        self.fc2 = nn.Sequential(\n",
    "            nn.Linear(256,64),\n",
    "            nn.ReLU()\n",
    "        )\n",
    "        self.fc3 = nn.ModuleList(\n",
    "            [nn.Sequential(\n",
    "            nn.Linear(64,64),\n",
    "            nn.ReLU()) for i in range(3)\n",
    "            ]\n",
    "        )\n",
    "        self.fc4 = nn.ModuleDict({\n",
    "            'fc4-1': nn.Linear(64,32),\n",
    "            'relu': nn.ReLU()\n",
    "        })\n",
    "        self.fc5 = nn.Linear(32, num_classes)\n",
    "\n",
    "    def forward(self, x):\n",
    "        x = self.fc1(x)\n",
    "        x = self.first_relu(x)\n",
    "        x = self.fc2(x)\n",
    "        for i, l in enumerate(self.fc3):\n",
    "            x = l(x)\n",
    "        x = self.fc4['fc4-1'](x)\n",
    "        x = self.fc4['relu'](x)\n",
    "        y_hat = self.fc5(x)\n",
    "        return y_hat\n",
    "\n",
    "model = DeepFCN(128, 10)\n",
    "print(model)"
   ]
  },
  {
   "cell_type": "code",
   "execution_count": 3,
   "id": "43eb1847",
   "metadata": {
    "ExecuteTime": {
     "end_time": "2022-04-11T05:48:34.769433Z",
     "start_time": "2022-04-11T05:48:34.766771Z"
    }
   },
   "outputs": [],
   "source": [
    "strategy = tp.strategy.RandomStrategy()"
   ]
  },
  {
   "cell_type": "code",
   "execution_count": 4,
   "id": "d5f7c6ea",
   "metadata": {
    "ExecuteTime": {
     "end_time": "2022-04-11T05:48:35.737879Z",
     "start_time": "2022-04-11T05:48:35.715140Z"
    }
   },
   "outputs": [
    {
     "name": "stdout",
     "output_type": "stream",
     "text": [
      "[linear] Linear(in_features=128, out_features=256, bias=True)\n",
      "[10, 54, 15, 111, 238, 170, 183, 59, 104, 191, 88, 99, 177, 56, 215, 205, 8, 167, 62, 121, 85, 25, 80, 49, 82, 206, 231, 131, 89, 100, 124, 113, 203, 225, 44, 114, 90, 237, 161, 103, 96, 144, 180, 150, 24, 248, 73, 244, 174, 14, 171]\n",
      "\n",
      "ReLU()\n",
      "\n",
      "[linear] Linear(in_features=256, out_features=64, bias=True)\n",
      "[5, 57, 54, 31, 47, 22, 0, 11, 38, 2, 48, 55]\n",
      "\n",
      "ReLU()\n",
      "\n",
      "Sequential(\n",
      "  (0): Linear(in_features=256, out_features=64, bias=True)\n",
      "  (1): ReLU()\n",
      ")\n",
      "\n",
      "[linear] Linear(in_features=64, out_features=64, bias=True)\n",
      "[59, 19, 57, 47, 18, 4, 40, 9, 61, 52, 23, 11]\n",
      "\n",
      "ReLU()\n",
      "\n",
      "Sequential(\n",
      "  (0): Linear(in_features=64, out_features=64, bias=True)\n",
      "  (1): ReLU()\n",
      ")\n",
      "\n",
      "[linear] Linear(in_features=64, out_features=64, bias=True)\n",
      "[42, 53, 46, 18, 21, 25, 40, 24, 23, 47, 35, 16]\n",
      "\n",
      "ReLU()\n",
      "\n",
      "Sequential(\n",
      "  (0): Linear(in_features=64, out_features=64, bias=True)\n",
      "  (1): ReLU()\n",
      ")\n",
      "\n",
      "[linear] Linear(in_features=64, out_features=64, bias=True)\n",
      "[29, 41, 11, 4, 46, 42, 2, 44, 6, 60, 25, 0]\n",
      "\n",
      "ReLU()\n",
      "\n",
      "Sequential(\n",
      "  (0): Linear(in_features=64, out_features=64, bias=True)\n",
      "  (1): ReLU()\n",
      ")\n",
      "\n",
      "ModuleList(\n",
      "  (0): Sequential(\n",
      "    (0): Linear(in_features=64, out_features=64, bias=True)\n",
      "    (1): ReLU()\n",
      "  )\n",
      "  (1): Sequential(\n",
      "    (0): Linear(in_features=64, out_features=64, bias=True)\n",
      "    (1): ReLU()\n",
      "  )\n",
      "  (2): Sequential(\n",
      "    (0): Linear(in_features=64, out_features=64, bias=True)\n",
      "    (1): ReLU()\n",
      "  )\n",
      ")\n",
      "\n",
      "[linear] Linear(in_features=64, out_features=32, bias=True)\n",
      "[5, 16, 9, 20, 11, 6]\n",
      "\n",
      "ReLU()\n",
      "\n",
      "ModuleDict(\n",
      "  (fc4-1): Linear(in_features=64, out_features=32, bias=True)\n",
      "  (relu): ReLU()\n",
      ")\n",
      "\n",
      "[linear] Linear(in_features=32, out_features=10, bias=True)\n",
      "[4, 6]\n",
      "\n",
      "DeepFCN(\n",
      "  (fc1): Linear(in_features=128, out_features=256, bias=True)\n",
      "  (first_relu): ReLU()\n",
      "  (fc2): Sequential(\n",
      "    (0): Linear(in_features=256, out_features=64, bias=True)\n",
      "    (1): ReLU()\n",
      "  )\n",
      "  (fc3): ModuleList(\n",
      "    (0): Sequential(\n",
      "      (0): Linear(in_features=64, out_features=64, bias=True)\n",
      "      (1): ReLU()\n",
      "    )\n",
      "    (1): Sequential(\n",
      "      (0): Linear(in_features=64, out_features=64, bias=True)\n",
      "      (1): ReLU()\n",
      "    )\n",
      "    (2): Sequential(\n",
      "      (0): Linear(in_features=64, out_features=64, bias=True)\n",
      "      (1): ReLU()\n",
      "    )\n",
      "  )\n",
      "  (fc4): ModuleDict(\n",
      "    (fc4-1): Linear(in_features=64, out_features=32, bias=True)\n",
      "    (relu): ReLU()\n",
      "  )\n",
      "  (fc5): Linear(in_features=32, out_features=10, bias=True)\n",
      ")\n",
      "\n"
     ]
    },
    {
     "data": {
      "text/plain": [
       "DeepFCN(\n",
       "  (fc1): Linear(in_features=128, out_features=256, bias=True)\n",
       "  (first_relu): ReLU()\n",
       "  (fc2): Sequential(\n",
       "    (0): Linear(in_features=256, out_features=64, bias=True)\n",
       "    (1): ReLU()\n",
       "  )\n",
       "  (fc3): ModuleList(\n",
       "    (0): Sequential(\n",
       "      (0): Linear(in_features=64, out_features=64, bias=True)\n",
       "      (1): ReLU()\n",
       "    )\n",
       "    (1): Sequential(\n",
       "      (0): Linear(in_features=64, out_features=64, bias=True)\n",
       "      (1): ReLU()\n",
       "    )\n",
       "    (2): Sequential(\n",
       "      (0): Linear(in_features=64, out_features=64, bias=True)\n",
       "      (1): ReLU()\n",
       "    )\n",
       "  )\n",
       "  (fc4): ModuleDict(\n",
       "    (fc4-1): Linear(in_features=64, out_features=32, bias=True)\n",
       "    (relu): ReLU()\n",
       "  )\n",
       "  (fc5): Linear(in_features=32, out_features=10, bias=True)\n",
       ")"
      ]
     },
     "execution_count": 4,
     "metadata": {},
     "output_type": "execute_result"
    }
   ],
   "source": [
    "module_to_idxs = {}\n",
    "\n",
    "def init_strategy(m):\n",
    "    if isinstance(m, nn.Linear):\n",
    "        print('[linear]', m, end='\\n')\n",
    "        module_to_idxs[m] = strategy(m.weight, amount=0.2)\n",
    "        print(module_to_idxs[m])\n",
    "        print()\n",
    "    else:\n",
    "        print(m, end='\\n\\n')\n",
    "\n",
    "model.apply(init_strategy)"
   ]
  },
  {
   "cell_type": "code",
   "execution_count": 5,
   "id": "3c0fd14d",
   "metadata": {
    "ExecuteTime": {
     "end_time": "2022-04-11T05:48:37.019371Z",
     "start_time": "2022-04-11T05:48:37.008645Z"
    }
   },
   "outputs": [
    {
     "data": {
      "text/plain": [
       "<torch_pruning.dependency.DependencyGraph at 0x7fef012db250>"
      ]
     },
     "execution_count": 5,
     "metadata": {},
     "output_type": "execute_result"
    }
   ],
   "source": [
    "DG = tp.DependencyGraph()\n",
    "DG.build_dependency(model, example_inputs=torch.randn(1,128))"
   ]
  },
  {
   "cell_type": "code",
   "execution_count": 6,
   "id": "f83f31b8",
   "metadata": {
    "ExecuteTime": {
     "end_time": "2022-04-11T05:48:39.631908Z",
     "start_time": "2022-04-11T05:48:39.624956Z"
    }
   },
   "outputs": [
    {
     "name": "stdout",
     "output_type": "stream",
     "text": [
      "[<torch_pruning.dependency.PruningPlan object at 0x7fef012addc0>, <torch_pruning.dependency.PruningPlan object at 0x7fef012ad5b0>, <torch_pruning.dependency.PruningPlan object at 0x7fef012adc40>, <torch_pruning.dependency.PruningPlan object at 0x7fef012ad100>, <torch_pruning.dependency.PruningPlan object at 0x7fef012add00>, <torch_pruning.dependency.PruningPlan object at 0x7fef012f30d0>, <torch_pruning.dependency.PruningPlan object at 0x7fef012f3280>]\n"
     ]
    }
   ],
   "source": [
    "pruning_plans = []\n",
    "\n",
    "def get_pruning_plans(m):\n",
    "    if m in module_to_idxs:\n",
    "        pruning_plans.append(DG.get_pruning_plan(m, tp.prune_linear, idxs=module_to_idxs[m]))\n",
    "\n",
    "model.apply(get_pruning_plans)\n",
    "print(pruning_plans)"
   ]
  },
  {
   "cell_type": "code",
   "execution_count": 7,
   "id": "a1e57b94",
   "metadata": {
    "ExecuteTime": {
     "end_time": "2022-04-11T05:48:40.734434Z",
     "start_time": "2022-04-11T05:48:40.728879Z"
    }
   },
   "outputs": [
    {
     "name": "stdout",
     "output_type": "stream",
     "text": [
      "DeepFCN(\n",
      "  (fc1): Linear(in_features=128, out_features=256, bias=True)\n",
      "  (first_relu): ReLU()\n",
      "  (fc2): Sequential(\n",
      "    (0): Linear(in_features=256, out_features=64, bias=True)\n",
      "    (1): ReLU()\n",
      "  )\n",
      "  (fc3): ModuleList(\n",
      "    (0): Sequential(\n",
      "      (0): Linear(in_features=64, out_features=64, bias=True)\n",
      "      (1): ReLU()\n",
      "    )\n",
      "    (1): Sequential(\n",
      "      (0): Linear(in_features=64, out_features=64, bias=True)\n",
      "      (1): ReLU()\n",
      "    )\n",
      "    (2): Sequential(\n",
      "      (0): Linear(in_features=64, out_features=64, bias=True)\n",
      "      (1): ReLU()\n",
      "    )\n",
      "  )\n",
      "  (fc4): ModuleDict(\n",
      "    (fc4-1): Linear(in_features=64, out_features=32, bias=True)\n",
      "    (relu): ReLU()\n",
      "  )\n",
      "  (fc5): Linear(in_features=32, out_features=10, bias=True)\n",
      ")\n"
     ]
    }
   ],
   "source": [
    "print(model)"
   ]
  },
  {
   "cell_type": "code",
   "execution_count": 8,
   "id": "a7dfbc35",
   "metadata": {
    "ExecuteTime": {
     "end_time": "2022-04-11T05:49:30.160912Z",
     "start_time": "2022-04-11T05:49:30.152025Z"
    }
   },
   "outputs": [
    {
     "name": "stdout",
     "output_type": "stream",
     "text": [
      "DeepFCN(\n",
      "  (fc1): Linear(in_features=128, out_features=205, bias=True)\n",
      "  (first_relu): ReLU()\n",
      "  (fc2): Sequential(\n",
      "    (0): Linear(in_features=205, out_features=52, bias=True)\n",
      "    (1): ReLU()\n",
      "  )\n",
      "  (fc3): ModuleList(\n",
      "    (0): Sequential(\n",
      "      (0): Linear(in_features=52, out_features=52, bias=True)\n",
      "      (1): ReLU()\n",
      "    )\n",
      "    (1): Sequential(\n",
      "      (0): Linear(in_features=52, out_features=52, bias=True)\n",
      "      (1): ReLU()\n",
      "    )\n",
      "    (2): Sequential(\n",
      "      (0): Linear(in_features=52, out_features=52, bias=True)\n",
      "      (1): ReLU()\n",
      "    )\n",
      "  )\n",
      "  (fc4): ModuleDict(\n",
      "    (fc4-1): Linear(in_features=52, out_features=26, bias=True)\n",
      "    (relu): ReLU()\n",
      "  )\n",
      "  (fc5): Linear(in_features=26, out_features=10, bias=True)\n",
      ")\n"
     ]
    }
   ],
   "source": [
    "pruning_plans.pop() # don't change the output layer\n",
    "for plan in pruning_plans:\n",
    "        plan.exec()\n",
    "print(model)"
   ]
  },
  {
   "cell_type": "code",
   "execution_count": null,
   "id": "afefa787",
   "metadata": {},
   "outputs": [],
   "source": []
  }
 ],
 "metadata": {
  "kernelspec": {
   "display_name": "Python 3 (ipykernel)",
   "language": "python",
   "name": "python3"
  },
  "language_info": {
   "codemirror_mode": {
    "name": "ipython",
    "version": 3
   },
   "file_extension": ".py",
   "mimetype": "text/x-python",
   "name": "python",
   "nbconvert_exporter": "python",
   "pygments_lexer": "ipython3",
   "version": "3.8.12"
  },
  "toc": {
   "base_numbering": 1,
   "nav_menu": {},
   "number_sections": true,
   "sideBar": true,
   "skip_h1_title": false,
   "title_cell": "Table of Contents",
   "title_sidebar": "Contents",
   "toc_cell": false,
   "toc_position": {},
   "toc_section_display": true,
   "toc_window_display": false
  },
  "varInspector": {
   "cols": {
    "lenName": 16,
    "lenType": 16,
    "lenVar": 40
   },
   "kernels_config": {
    "python": {
     "delete_cmd_postfix": "",
     "delete_cmd_prefix": "del ",
     "library": "var_list.py",
     "varRefreshCmd": "print(var_dic_list())"
    },
    "r": {
     "delete_cmd_postfix": ") ",
     "delete_cmd_prefix": "rm(",
     "library": "var_list.r",
     "varRefreshCmd": "cat(var_dic_list()) "
    }
   },
   "types_to_exclude": [
    "module",
    "function",
    "builtin_function_or_method",
    "instance",
    "_Feature"
   ],
   "window_display": false
  }
 },
 "nbformat": 4,
 "nbformat_minor": 5
}
