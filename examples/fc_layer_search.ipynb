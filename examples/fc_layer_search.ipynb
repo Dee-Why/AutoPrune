{
 "cells": [
  {
   "cell_type": "markdown",
   "id": "785de03c",
   "metadata": {},
   "source": [
    "# notebook 风格import"
   ]
  },
  {
   "cell_type": "code",
   "execution_count": 1,
   "id": "b1e5bd41",
   "metadata": {
    "ExecuteTime": {
     "end_time": "2022-04-11T06:57:06.379503Z",
     "start_time": "2022-04-11T06:57:05.731677Z"
    }
   },
   "outputs": [],
   "source": [
    "import sys, os\n",
    "sys.path.append(os.path.dirname(os.path.abspath('.')))\n",
    "\n",
    "import torch\n",
    "import torch.nn as nn\n",
    "import torch.nn.functional as F\n",
    "\n",
    "import torch_pruning as tp"
   ]
  },
  {
   "cell_type": "markdown",
   "id": "b0b8de9a",
   "metadata": {},
   "source": [
    "# 定义一个比较复杂的网络结构\n",
    "使用Module, Module.add_module, Sequential, ModuleList, ModuleDict"
   ]
  },
  {
   "cell_type": "code",
   "execution_count": 2,
   "id": "91959e1f",
   "metadata": {
    "ExecuteTime": {
     "end_time": "2022-04-11T06:57:06.392996Z",
     "start_time": "2022-04-11T06:57:06.382381Z"
    }
   },
   "outputs": [
    {
     "name": "stdout",
     "output_type": "stream",
     "text": [
      "DeepFCN(\n",
      "  (fc1): Linear(in_features=128, out_features=256, bias=True)\n",
      "  (first_relu): ReLU()\n",
      "  (fc2): Sequential(\n",
      "    (0): Linear(in_features=256, out_features=64, bias=True)\n",
      "    (1): ReLU()\n",
      "  )\n",
      "  (fc3): ModuleList(\n",
      "    (0): Sequential(\n",
      "      (0): Linear(in_features=64, out_features=64, bias=True)\n",
      "      (1): ReLU()\n",
      "    )\n",
      "    (1): Sequential(\n",
      "      (0): Linear(in_features=64, out_features=64, bias=True)\n",
      "      (1): ReLU()\n",
      "    )\n",
      "    (2): Sequential(\n",
      "      (0): Linear(in_features=64, out_features=64, bias=True)\n",
      "      (1): ReLU()\n",
      "    )\n",
      "  )\n",
      "  (fc4): ModuleDict(\n",
      "    (fc4-1): Linear(in_features=64, out_features=32, bias=True)\n",
      "    (relu): ReLU()\n",
      "  )\n",
      "  (fc5): Linear(in_features=32, out_features=10, bias=True)\n",
      ")\n"
     ]
    }
   ],
   "source": [
    "class DeepFCN(nn.Module):\n",
    "    def __init__(self, input_size, num_classes):\n",
    "        super(DeepFCN, self).__init__()\n",
    "        self.fc1 = nn.Linear(input_size, 256)\n",
    "        self.add_module('first_relu', nn.ReLU())\n",
    "        self.fc2 = nn.Sequential(\n",
    "            nn.Linear(256,64),\n",
    "            nn.ReLU()\n",
    "        )\n",
    "        self.fc3 = nn.ModuleList(\n",
    "            [nn.Sequential(\n",
    "            nn.Linear(64,64),\n",
    "            nn.ReLU()) for i in range(3)\n",
    "            ]\n",
    "        )\n",
    "        self.fc4 = nn.ModuleDict({\n",
    "            'fc4-1': nn.Linear(64,32),\n",
    "            'relu': nn.ReLU()\n",
    "        })\n",
    "        self.fc5 = nn.Linear(32, num_classes)\n",
    "\n",
    "    def forward(self, x):\n",
    "        x = self.fc1(x)\n",
    "        x = self.first_relu(x)\n",
    "        x = self.fc2(x)\n",
    "        for i, l in enumerate(self.fc3):\n",
    "            x = l(x)\n",
    "        x = self.fc4['fc4-1'](x)\n",
    "        x = self.fc4['relu'](x)\n",
    "        y_hat = self.fc5(x)\n",
    "        return y_hat\n",
    "\n",
    "model = DeepFCN(128, 10)\n",
    "print(model)"
   ]
  },
  {
   "cell_type": "markdown",
   "id": "65417ae1",
   "metadata": {},
   "source": [
    "# 注册不能修改的层 static_layers"
   ]
  },
  {
   "cell_type": "code",
   "execution_count": 3,
   "id": "2a9b77ef",
   "metadata": {
    "ExecuteTime": {
     "end_time": "2022-04-11T06:57:06.398151Z",
     "start_time": "2022-04-11T06:57:06.394640Z"
    }
   },
   "outputs": [
    {
     "name": "stdout",
     "output_type": "stream",
     "text": [
      "[Linear(in_features=32, out_features=10, bias=True)]\n"
     ]
    }
   ],
   "source": [
    "static_layers = []\n",
    "static_layers.append(model.fc5)\n",
    "print(static_layers)"
   ]
  },
  {
   "cell_type": "markdown",
   "id": "72fae7b8",
   "metadata": {},
   "source": [
    "# 递归进行随机剪枝idx选取"
   ]
  },
  {
   "cell_type": "code",
   "execution_count": 4,
   "id": "43eb1847",
   "metadata": {
    "ExecuteTime": {
     "end_time": "2022-04-11T06:57:06.406701Z",
     "start_time": "2022-04-11T06:57:06.402473Z"
    }
   },
   "outputs": [
    {
     "name": "stdout",
     "output_type": "stream",
     "text": [
      "{Linear(in_features=128, out_features=256, bias=True): [89, 52, 120, 132, 73, 195, 148, 33, 9, 170, 44, 98, 209, 203, 51, 94, 11, 36, 117, 253, 17, 204, 78, 1, 130, 174, 173, 39, 123, 205, 37, 143, 255, 157, 246, 47, 12, 29, 30, 93, 248, 241, 105, 22, 208, 197, 122, 91, 96, 3, 190], Linear(in_features=256, out_features=64, bias=True): [55, 5, 26, 25, 56, 31, 33, 43, 40, 10, 7, 53], Linear(in_features=64, out_features=64, bias=True): [43, 16, 50, 52, 24, 29, 3, 44, 10, 46, 18, 13], Linear(in_features=64, out_features=64, bias=True): [63, 31, 14, 32, 35, 19, 48, 62, 25, 44, 26, 58], Linear(in_features=64, out_features=64, bias=True): [54, 48, 21, 12, 57, 7, 34, 61, 43, 6, 52, 46], Linear(in_features=64, out_features=32, bias=True): [13, 15, 3, 18, 30, 4]}\n"
     ]
    }
   ],
   "source": [
    "strategy = tp.strategy.RandomStrategy()\n",
    "\n",
    "module_to_idxs = {}\n",
    "\n",
    "def init_strategy(m):\n",
    "    if isinstance(m, nn.Linear) and m not in static_layers:\n",
    "        module_to_idxs[m] = strategy(m.weight, amount=0.2)\n",
    "\n",
    "model.apply(init_strategy)\n",
    "\n",
    "print(module_to_idxs)"
   ]
  },
  {
   "cell_type": "markdown",
   "id": "6ecfab05",
   "metadata": {},
   "source": [
    "# 制作依赖图，根据idx进行规划"
   ]
  },
  {
   "cell_type": "code",
   "execution_count": 5,
   "id": "3c0fd14d",
   "metadata": {
    "ExecuteTime": {
     "end_time": "2022-04-11T06:57:06.419370Z",
     "start_time": "2022-04-11T06:57:06.408386Z"
    }
   },
   "outputs": [
    {
     "name": "stdout",
     "output_type": "stream",
     "text": [
      "\n",
      "-------------\n",
      "[ <DEP: prune_linear => prune_linear on fc1 (Linear(in_features=128, out_features=256, bias=True))>, Index=[89, 52, 120, 132, 73, 195, 148, 33, 9, 170, 44, 98, 209, 203, 51, 94, 11, 36, 117, 253, 17, 204, 78, 1, 130, 174, 173, 39, 123, 205, 37, 143, 255, 157, 246, 47, 12, 29, 30, 93, 248, 241, 105, 22, 208, 197, 122, 91, 96, 3, 190], NumPruned=6579]\n",
      "[ <DEP: prune_linear => _prune_elementwise_op on _ElementWiseOp()>, Index=[89, 52, 120, 132, 73, 195, 148, 33, 9, 170, 44, 98, 209, 203, 51, 94, 11, 36, 117, 253, 17, 204, 78, 1, 130, 174, 173, 39, 123, 205, 37, 143, 255, 157, 246, 47, 12, 29, 30, 93, 248, 241, 105, 22, 208, 197, 122, 91, 96, 3, 190], NumPruned=0]\n",
      "[ <DEP: _prune_elementwise_op => prune_related_linear on fc2.0 (Linear(in_features=256, out_features=64, bias=True))>, Index=[89, 52, 120, 132, 73, 195, 148, 33, 9, 170, 44, 98, 209, 203, 51, 94, 11, 36, 117, 253, 17, 204, 78, 1, 130, 174, 173, 39, 123, 205, 37, 143, 255, 157, 246, 47, 12, 29, 30, 93, 248, 241, 105, 22, 208, 197, 122, 91, 96, 3, 190], NumPruned=3264]\n",
      "[ <DEP: prune_related_linear => _prune_elementwise_op on _ElementWiseOp()>, Index=[89, 52, 120, 132, 73, 195, 148, 33, 9, 170, 44, 98, 209, 203, 51, 94, 11, 36, 117, 253, 17, 204, 78, 1, 130, 174, 173, 39, 123, 205, 37, 143, 255, 157, 246, 47, 12, 29, 30, 93, 248, 241, 105, 22, 208, 197, 122, 91, 96, 3, 190], NumPruned=0]\n",
      "9843 parameters will be pruned\n",
      "-------------\n",
      "\n",
      "\n",
      "-------------\n",
      "[ <DEP: prune_linear => prune_linear on fc2.0 (Linear(in_features=256, out_features=64, bias=True))>, Index=[55, 5, 26, 25, 56, 31, 33, 43, 40, 10, 7, 53], NumPruned=3084]\n",
      "[ <DEP: prune_linear => _prune_elementwise_op on _ElementWiseOp()>, Index=[55, 5, 26, 25, 56, 31, 33, 43, 40, 10, 7, 53], NumPruned=0]\n",
      "[ <DEP: _prune_elementwise_op => prune_related_linear on fc3.0.0 (Linear(in_features=64, out_features=64, bias=True))>, Index=[55, 5, 26, 25, 56, 31, 33, 43, 40, 10, 7, 53], NumPruned=768]\n",
      "[ <DEP: prune_related_linear => _prune_elementwise_op on _ElementWiseOp()>, Index=[55, 5, 26, 25, 56, 31, 33, 43, 40, 10, 7, 53], NumPruned=0]\n",
      "3852 parameters will be pruned\n",
      "-------------\n",
      "\n",
      "\n",
      "-------------\n",
      "[ <DEP: prune_linear => prune_linear on fc3.0.0 (Linear(in_features=64, out_features=64, bias=True))>, Index=[43, 16, 50, 52, 24, 29, 3, 44, 10, 46, 18, 13], NumPruned=780]\n",
      "[ <DEP: prune_linear => _prune_elementwise_op on _ElementWiseOp()>, Index=[43, 16, 50, 52, 24, 29, 3, 44, 10, 46, 18, 13], NumPruned=0]\n",
      "[ <DEP: _prune_elementwise_op => prune_related_linear on fc3.1.0 (Linear(in_features=64, out_features=64, bias=True))>, Index=[43, 16, 50, 52, 24, 29, 3, 44, 10, 46, 18, 13], NumPruned=768]\n",
      "[ <DEP: prune_related_linear => _prune_elementwise_op on _ElementWiseOp()>, Index=[43, 16, 50, 52, 24, 29, 3, 44, 10, 46, 18, 13], NumPruned=0]\n",
      "1548 parameters will be pruned\n",
      "-------------\n",
      "\n",
      "\n",
      "-------------\n",
      "[ <DEP: prune_linear => prune_linear on fc3.1.0 (Linear(in_features=64, out_features=64, bias=True))>, Index=[63, 31, 14, 32, 35, 19, 48, 62, 25, 44, 26, 58], NumPruned=780]\n",
      "[ <DEP: prune_linear => _prune_elementwise_op on _ElementWiseOp()>, Index=[63, 31, 14, 32, 35, 19, 48, 62, 25, 44, 26, 58], NumPruned=0]\n",
      "[ <DEP: _prune_elementwise_op => prune_related_linear on fc3.2.0 (Linear(in_features=64, out_features=64, bias=True))>, Index=[63, 31, 14, 32, 35, 19, 48, 62, 25, 44, 26, 58], NumPruned=768]\n",
      "[ <DEP: prune_related_linear => _prune_elementwise_op on _ElementWiseOp()>, Index=[63, 31, 14, 32, 35, 19, 48, 62, 25, 44, 26, 58], NumPruned=0]\n",
      "1548 parameters will be pruned\n",
      "-------------\n",
      "\n",
      "\n",
      "-------------\n",
      "[ <DEP: prune_linear => prune_linear on fc3.2.0 (Linear(in_features=64, out_features=64, bias=True))>, Index=[54, 48, 21, 12, 57, 7, 34, 61, 43, 6, 52, 46], NumPruned=780]\n",
      "[ <DEP: prune_linear => _prune_elementwise_op on _ElementWiseOp()>, Index=[54, 48, 21, 12, 57, 7, 34, 61, 43, 6, 52, 46], NumPruned=0]\n",
      "[ <DEP: _prune_elementwise_op => prune_related_linear on fc4.fc4-1 (Linear(in_features=64, out_features=32, bias=True))>, Index=[54, 48, 21, 12, 57, 7, 34, 61, 43, 6, 52, 46], NumPruned=384]\n",
      "[ <DEP: prune_related_linear => _prune_elementwise_op on _ElementWiseOp()>, Index=[54, 48, 21, 12, 57, 7, 34, 61, 43, 6, 52, 46], NumPruned=0]\n",
      "1164 parameters will be pruned\n",
      "-------------\n",
      "\n",
      "\n",
      "-------------\n",
      "[ <DEP: prune_linear => prune_linear on fc4.fc4-1 (Linear(in_features=64, out_features=32, bias=True))>, Index=[13, 15, 3, 18, 30, 4], NumPruned=390]\n",
      "[ <DEP: prune_linear => _prune_elementwise_op on _ElementWiseOp()>, Index=[13, 15, 3, 18, 30, 4], NumPruned=0]\n",
      "[ <DEP: _prune_elementwise_op => prune_related_linear on fc5 (Linear(in_features=32, out_features=10, bias=True))>, Index=[13, 15, 3, 18, 30, 4], NumPruned=60]\n",
      "[ <DEP: prune_related_linear => _prune_elementwise_op on _ElementWiseOp()>, Index=[13, 15, 3, 18, 30, 4], NumPruned=0]\n",
      "450 parameters will be pruned\n",
      "-------------\n",
      "\n"
     ]
    }
   ],
   "source": [
    "DG = tp.DependencyGraph()\n",
    "DG.build_dependency(model, example_inputs=torch.randn(1,128))\n",
    "\n",
    "pruning_plans = []\n",
    "\n",
    "def get_pruning_plans(m):\n",
    "    if m in module_to_idxs:\n",
    "        pruning_plans.append(DG.get_pruning_plan(m, tp.prune_linear, idxs=module_to_idxs[m]))\n",
    "\n",
    "model.apply(get_pruning_plans)\n",
    "for plan in pruning_plans:\n",
    "    print(plan)"
   ]
  },
  {
   "cell_type": "markdown",
   "id": "19bfd11d",
   "metadata": {},
   "source": [
    "## 执行剪枝计划，并对比前后模型"
   ]
  },
  {
   "cell_type": "code",
   "execution_count": 6,
   "id": "a1e57b94",
   "metadata": {
    "ExecuteTime": {
     "end_time": "2022-04-11T06:57:06.428739Z",
     "start_time": "2022-04-11T06:57:06.421630Z"
    }
   },
   "outputs": [
    {
     "name": "stdout",
     "output_type": "stream",
     "text": [
      "DeepFCN(\n",
      "  (fc1): Linear(in_features=128, out_features=256, bias=True)\n",
      "  (first_relu): ReLU()\n",
      "  (fc2): Sequential(\n",
      "    (0): Linear(in_features=256, out_features=64, bias=True)\n",
      "    (1): ReLU()\n",
      "  )\n",
      "  (fc3): ModuleList(\n",
      "    (0): Sequential(\n",
      "      (0): Linear(in_features=64, out_features=64, bias=True)\n",
      "      (1): ReLU()\n",
      "    )\n",
      "    (1): Sequential(\n",
      "      (0): Linear(in_features=64, out_features=64, bias=True)\n",
      "      (1): ReLU()\n",
      "    )\n",
      "    (2): Sequential(\n",
      "      (0): Linear(in_features=64, out_features=64, bias=True)\n",
      "      (1): ReLU()\n",
      "    )\n",
      "  )\n",
      "  (fc4): ModuleDict(\n",
      "    (fc4-1): Linear(in_features=64, out_features=32, bias=True)\n",
      "    (relu): ReLU()\n",
      "  )\n",
      "  (fc5): Linear(in_features=32, out_features=10, bias=True)\n",
      ")\n",
      "<<<<<<<<<<<<<<<<<<<<<<<<<<<<<<<<<<<<<<<< before\n",
      "after >>>>>>>>>>>>>>>>>>>>>>>>>>>>>>>>>>>>>>>>\n",
      "DeepFCN(\n",
      "  (fc1): Linear(in_features=128, out_features=205, bias=True)\n",
      "  (first_relu): ReLU()\n",
      "  (fc2): Sequential(\n",
      "    (0): Linear(in_features=205, out_features=52, bias=True)\n",
      "    (1): ReLU()\n",
      "  )\n",
      "  (fc3): ModuleList(\n",
      "    (0): Sequential(\n",
      "      (0): Linear(in_features=52, out_features=52, bias=True)\n",
      "      (1): ReLU()\n",
      "    )\n",
      "    (1): Sequential(\n",
      "      (0): Linear(in_features=52, out_features=52, bias=True)\n",
      "      (1): ReLU()\n",
      "    )\n",
      "    (2): Sequential(\n",
      "      (0): Linear(in_features=52, out_features=52, bias=True)\n",
      "      (1): ReLU()\n",
      "    )\n",
      "  )\n",
      "  (fc4): ModuleDict(\n",
      "    (fc4-1): Linear(in_features=52, out_features=26, bias=True)\n",
      "    (relu): ReLU()\n",
      "  )\n",
      "  (fc5): Linear(in_features=26, out_features=10, bias=True)\n",
      ")\n"
     ]
    }
   ],
   "source": [
    "print(model)\n",
    "for plan in pruning_plans:\n",
    "        plan.exec()\n",
    "print('<<<<<<<<<<<<<<<<<<<<<<<<<<<<<<<<<<<<<<<< before')\n",
    "print('after >>>>>>>>>>>>>>>>>>>>>>>>>>>>>>>>>>>>>>>>')\n",
    "print(model)"
   ]
  },
  {
   "cell_type": "code",
   "execution_count": null,
   "id": "afefa787",
   "metadata": {},
   "outputs": [],
   "source": []
  }
 ],
 "metadata": {
  "kernelspec": {
   "display_name": "Python 3 (ipykernel)",
   "language": "python",
   "name": "python3"
  },
  "language_info": {
   "codemirror_mode": {
    "name": "ipython",
    "version": 3
   },
   "file_extension": ".py",
   "mimetype": "text/x-python",
   "name": "python",
   "nbconvert_exporter": "python",
   "pygments_lexer": "ipython3",
   "version": "3.8.12"
  },
  "toc": {
   "base_numbering": 1,
   "nav_menu": {},
   "number_sections": true,
   "sideBar": true,
   "skip_h1_title": false,
   "title_cell": "Table of Contents",
   "title_sidebar": "Contents",
   "toc_cell": false,
   "toc_position": {},
   "toc_section_display": true,
   "toc_window_display": false
  },
  "varInspector": {
   "cols": {
    "lenName": 16,
    "lenType": 16,
    "lenVar": 40
   },
   "kernels_config": {
    "python": {
     "delete_cmd_postfix": "",
     "delete_cmd_prefix": "del ",
     "library": "var_list.py",
     "varRefreshCmd": "print(var_dic_list())"
    },
    "r": {
     "delete_cmd_postfix": ") ",
     "delete_cmd_prefix": "rm(",
     "library": "var_list.r",
     "varRefreshCmd": "cat(var_dic_list()) "
    }
   },
   "types_to_exclude": [
    "module",
    "function",
    "builtin_function_or_method",
    "instance",
    "_Feature"
   ],
   "window_display": false
  }
 },
 "nbformat": 4,
 "nbformat_minor": 5
}
